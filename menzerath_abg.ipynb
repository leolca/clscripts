{
 "cells": [
  {
   "cell_type": "markdown",
   "metadata": {
    "kernel": "SoS"
   },
   "source": [
    "# On the Menzerath'law in portuguese and english\n",
    "\n",
    "This notebook provides the step by step used in the analysis of the Menzerath's law on portuguese and english. \n",
    "\n",
    ",,je größer das Ganze, um so kleiner die Teile!'' (Paul Menzerath, 1954)\n",
    "\n",
    "Altmann (1980) formulated:\n",
    "\n",
    "\\begin{equation}\\label{eq-dif-altmann}\n",
    "\\frac{ \\mathrm{d}y / \\mathrm{d}x }{y} = -c + \\frac{b}{x} ,\n",
    "\\end{equation}\n",
    "\n",
    "\n",
    "with solution\n",
    "\n",
    "\\begin{equation}\n",
    "y = A x^b e^{-c x} .\n",
    "\\end{equation}\n"
   ]
  },
  {
   "cell_type": "code",
   "execution_count": 28,
   "metadata": {
    "kernel": "Bash"
   },
   "outputs": [],
   "source": [
    "# check if ABG corpus was already downloaded\n",
    "# if not, download it\n",
    "if [ ! -f /tmp/Corpus_ABG.csv ]; then \n",
    "  wget -q https://raw.githubusercontent.com/SauronGuide/corpusABG/master/Corpus_ABG_Completo_Versao3.csv -O /tmp/Corpus_ABG.csv\n",
    "fi"
   ]
  },
  {
   "cell_type": "markdown",
   "metadata": {
    "kernel": "Bash"
   },
   "source": [
    "Lets check the type of file we have downloaded:"
   ]
  },
  {
   "cell_type": "code",
   "execution_count": 29,
   "metadata": {
    "kernel": "Bash"
   },
   "outputs": [
    {
     "name": "stdout",
     "output_type": "stream",
     "text": [
      "/tmp/Corpus_ABG.csv: UTF-8 Unicode (with BOM) text, with CRLF line terminators\n"
     ]
    }
   ],
   "source": [
    "file /tmp/Corpus_ABG.csv"
   ]
  },
  {
   "cell_type": "markdown",
   "metadata": {
    "kernel": "Bash"
   },
   "source": [
    "Since it uses CRLF line terminators, it was probably created on Windows. This double line terminator is unnacessary and carries an extra byte ('\\r', carriage return) that might appear as ^M on Linux and create further problem.\n",
    "\n",
    "The BOM marker is also redundant, since it is possible to infer the endianness by a simple analysis of the data. The BOM marker (in UTF-8) is made of the three inicial bytes ```0xEF```,```0xBB```,```0xBF```.\n",
    "\n",
    "So let's start by removing both of them."
   ]
  },
  {
   "cell_type": "code",
   "execution_count": 30,
   "metadata": {
    "kernel": "Bash"
   },
   "outputs": [],
   "source": [
    "tail --bytes=+4 /tmp/Corpus_ABG.csv | tr -d '\\r' > /tmp/CorpusABG.csv"
   ]
  },
  {
   "cell_type": "markdown",
   "metadata": {
    "kernel": "Bash"
   },
   "source": [
    "Unfortunately the ABG corpus has many erros. We will try to fix some of them and leave many behind. \n",
    "\n",
    "The first error we found is empty lines, that appear as: ```,,,,,,,,,,,,,,,,```.\n",
    "\n",
    "Lets list them and remove them. We will use grep to find them and the parameter ```-n``` to print the line number, along the match."
   ]
  },
  {
   "cell_type": "code",
   "execution_count": 31,
   "metadata": {
    "kernel": "Bash"
   },
   "outputs": [
    {
     "name": "stdout",
     "output_type": "stream",
     "text": [
      "\u001b[32m\u001b[K20608\u001b[m\u001b[K\u001b[36m\u001b[K:\u001b[m\u001b[K\u001b[01;31m\u001b[K,\u001b[m\u001b[K,,,,,,,,,,,,,,,\n",
      "\u001b[32m\u001b[K20747\u001b[m\u001b[K\u001b[36m\u001b[K:\u001b[m\u001b[K\u001b[01;31m\u001b[K,\u001b[m\u001b[K,,,,,,,,,,,,,,,\n",
      "\u001b[32m\u001b[K20957\u001b[m\u001b[K\u001b[36m\u001b[K:\u001b[m\u001b[K\u001b[01;31m\u001b[K,\u001b[m\u001b[K,,,,,,,,,,,,,,,\n",
      "\u001b[32m\u001b[K48422\u001b[m\u001b[K\u001b[36m\u001b[K:\u001b[m\u001b[K\u001b[01;31m\u001b[K,\u001b[m\u001b[K,,,,,,,,,,,,,,,\n",
      "\u001b[32m\u001b[K48764\u001b[m\u001b[K\u001b[36m\u001b[K:\u001b[m\u001b[K\u001b[01;31m\u001b[K,\u001b[m\u001b[K,,,,,,,,,,,,,,,\n",
      "\u001b[32m\u001b[K49034\u001b[m\u001b[K\u001b[36m\u001b[K:\u001b[m\u001b[K\u001b[01;31m\u001b[K,\u001b[m\u001b[K,,,,,,,,,,,,,,,\n",
      "\u001b[32m\u001b[K49705\u001b[m\u001b[K\u001b[36m\u001b[K:\u001b[m\u001b[K\u001b[01;31m\u001b[K,\u001b[m\u001b[K,,,,,,,,,,,,,,,\n",
      "\u001b[32m\u001b[K49838\u001b[m\u001b[K\u001b[36m\u001b[K:\u001b[m\u001b[K\u001b[01;31m\u001b[K,\u001b[m\u001b[K,,,,,,,,,,,,,,,\n",
      "\u001b[32m\u001b[K50175\u001b[m\u001b[K\u001b[36m\u001b[K:\u001b[m\u001b[K\u001b[01;31m\u001b[K,\u001b[m\u001b[K,,,,,,,,,,,,,,,\n",
      "\u001b[32m\u001b[K51587\u001b[m\u001b[K\u001b[36m\u001b[K:\u001b[m\u001b[K\u001b[01;31m\u001b[K,\u001b[m\u001b[K,,,,,,,,,,,,,,,\n",
      "\u001b[32m\u001b[K53205\u001b[m\u001b[K\u001b[36m\u001b[K:\u001b[m\u001b[K\u001b[01;31m\u001b[K,\u001b[m\u001b[K,,,,,,,,,,,,,,,\n",
      "\u001b[32m\u001b[K92625\u001b[m\u001b[K\u001b[36m\u001b[K:\u001b[m\u001b[K\u001b[01;31m\u001b[K,\u001b[m\u001b[K,   ,,,,,,,,,,,,,,\n"
     ]
    }
   ],
   "source": [
    "grep -n '^,' /tmp/CorpusABG.csv "
   ]
  },
  {
   "cell_type": "code",
   "execution_count": 32,
   "metadata": {
    "kernel": "Bash"
   },
   "outputs": [],
   "source": [
    "LINES=\"\"; \n",
    "for i in `grep -n '^,' /tmp/CorpusABG.csv | cut -d: -f1`; do \n",
    "  LINES=\"${LINES}${i}d;\"; \n",
    "done; \n",
    "sed -ie \"${LINES}\" /tmp/CorpusABG.csv"
   ]
  },
  {
   "cell_type": "markdown",
   "metadata": {
    "kernel": "Bash"
   },
   "source": [
    "Another type of error we found in the database is lines with more fields than others. Probably the authors have inserted erroneous commas, creating a malformed file. The script bellow present the rows that have more than 12 fields. We also print the line number, so we may once again remove the bad data."
   ]
  },
  {
   "cell_type": "code",
   "execution_count": 33,
   "metadata": {
    "kernel": "Bash"
   },
   "outputs": [
    {
     "name": "stdout",
     "output_type": "stream",
     "text": [
      "46495:46508,prociss?es,   NP,,   prociss?es,   &pro-si-sOJs*,   &pro-si-s#Js*,   &CCV-CV-CVGS*,   ox?tona,2,2,   0e,2\n",
      "54571:54607,Juvenile,   NOM,   Juvenile,   &ju-ve-ni-le*,   &ju-ve-n7-ly*,   &CV-CV-CV-CV*,   parox?tona,1,   0o,1,,54607\n",
      "77325:77959,bulut,   F,   bulut,   &bu-lut*,   &bu-l$t*,   &CV-CVC*,   ox?tona,1,   0o,1,1,,1,   0o,1,1\n"
     ]
    }
   ],
   "source": [
    "cat /tmp/CorpusABG.csv | sed 's/,\\+\\s*$//' | awk -F, 'NF>12{print NR\":\"$0}'"
   ]
  },
  {
   "cell_type": "markdown",
   "metadata": {
    "kernel": "Bash"
   },
   "source": [
    "Lets then remove those lines, just as we did before."
   ]
  },
  {
   "cell_type": "code",
   "execution_count": 34,
   "metadata": {
    "kernel": "Bash"
   },
   "outputs": [],
   "source": [
    "LINES=\"\"; \n",
    "for i in `sed 's/,\\+\\s*$//' < /tmp/Corpus_ABG.csv | awk -F, 'NF>12{print NR\":\"$0}' | cut -d: -f1`; do \n",
    "  LINES=\"${LINES}${i}d;\"; \n",
    "done; \n",
    "sed -ie \"${LINES}\" /tmp/CorpusABG.csv"
   ]
  },
  {
   "cell_type": "markdown",
   "metadata": {
    "kernel": "Bash"
   },
   "source": [
    "There are also rows where the FREQGERAL is zero or not a number. We're going to remove these data as well."
   ]
  },
  {
   "cell_type": "code",
   "execution_count": 35,
   "metadata": {
    "kernel": "Bash"
   },
   "outputs": [
    {
     "name": "stdout",
     "output_type": "stream",
     "text": [
      "24089:24093,Jereissati,   F   jereissati,   &je-reJ-sa-Ti*,   &je-reJ-s1-Ty*,   &CV-CVG-CV-CV*,   parox?tona,6,   0o,6,2,,,,,\n",
      "35806:35816,Fuentes,   F   Fuentes,   &fE-tes*,   &fE-t4s*,   &CV-CVS*,   ox?tona,3,   0o,3,2,,,,,\n",
      "46495:46508,prociss?es,   NP,,   prociss?es,   &pro-si-sOJs*,   &pro-si-s#Js*,   &CCV-CV-CVGS*,   ox?tona,2,2,   0e,2,,,,,\n",
      "51340:51359,Josh,   F   Josh,   &jo-Sy*,   &j9-Sy*,   &CV-CV*,   parox?tona,2,   0o,2,2,,,,,\n"
     ]
    }
   ],
   "source": [
    "awk -F, '$9<1{print NR\":\"$0}' < /tmp/CorpusABG.csv"
   ]
  },
  {
   "cell_type": "code",
   "execution_count": 36,
   "metadata": {
    "kernel": "Bash"
   },
   "outputs": [],
   "source": [
    "LINES=\"\"; \n",
    "for i in `awk -F, '$9<1{print NR\":\"$0}' < /tmp/CorpusABG.csv | cut -d: -f1`; do \n",
    "  LINES=\"${LINES}${i}d;\"; \n",
    "done; \n",
    "sed -ie \"${LINES}\" /tmp/CorpusABG.csv"
   ]
  },
  {
   "cell_type": "markdown",
   "metadata": {
    "kernel": "Bash"
   },
   "source": [
    "Now lets create a database file from CorpusABG, where it will have the following fields: word, frequency, phonetic transcription, phone length, syllabic transcription, syllable length.\n",
    "\n",
    "ABG corpus has an empty line in the end, what we will eliminate. We will also change the header (first line) to use the labels given above."
   ]
  },
  {
   "cell_type": "code",
   "execution_count": 37,
   "metadata": {
    "kernel": "Bash"
   },
   "outputs": [],
   "source": [
    "echo \"word,frequency,phonetic transcription,phone length,syllabic transcription,syllable length,average duration\" > /tmp/corpusabg.csv\n",
    "cat /tmp/CorpusABG.csv | head -n -1 | tail -n +2 | \n",
    "    awk -F',' '{gsub(/^[ \\t]+|[ \\t]+$/, \"\", $5); gsub(/^\\&|\\*$/,\"\",$5); gsub(/^[ \\t]+|[ \\t]+$/, \"\", $7); gsub(/^\\&|\\*$/,\"\",$7); printf \"%s,%d,%s,\", tolower($2), $9, $5; gsub(/-/,\"\",$5); printf \"%d,%s,%d\\n\", length($5), $7, gsub(/-/,\"\",$7)+1}' >> /tmp/corpusabg.csv"
   ]
  },
  {
   "cell_type": "markdown",
   "metadata": {
    "kernel": "Bash"
   },
   "source": [
    "Note that we have copied the data from the orginal database and computed the missing desired fields: phone length and syllable length.\n",
    "\n",
    "\n",
    "Using the new corpus, saved at ```/tmp/corpusabg.csv``` we may count the number of words with a given number of syllables and a given averange phone length per syllable. In order to do so, we just need to use column 6 (syllable length) and column 4 divided by column 6 (phone length/syllable length). The script bellows compute this value and count the number of occurrence."
   ]
  },
  {
   "cell_type": "code",
   "execution_count": 38,
   "metadata": {
    "kernel": "Bash"
   },
   "outputs": [
    {
     "name": "stdout",
     "output_type": "stream",
     "text": [
      "count\tnum_syllables\tavg_phone_length\n",
      "  11823 3\t2.33333\n",
      "   9720 3\t2\n",
      "   9170 4\t2.25\n",
      "   8245 4\t2\n",
      "   7579 2\t2.5\n",
      "   5695 3\t2.66667\n",
      "   5230 2\t2\n",
      "   4682 4\t2.5\n",
      "   3839 5\t2.2\n"
     ]
    }
   ],
   "source": [
    "cat /tmp/corpusabg.csv | tail -n +2 | awk -F',' '{print $6 \"\\t\" $4/$6}' | \n",
    "   sort | uniq -c | sort -rn > /tmp/counts_numsyl_avgphlen\n",
    "sed -i '1icount\\tnum_syllables\\tavg_phone_length' /tmp/counts_numsyl_avgphlen \n",
    "head /tmp/counts_numsyl_avgphlen"
   ]
  },
  {
   "cell_type": "markdown",
   "metadata": {
    "kernel": "Bash"
   },
   "source": [
    "Let's use this new data to create a density plot for the relation between number of syllables and average syllable length (phones/syllable)."
   ]
  },
  {
   "cell_type": "code",
   "execution_count": 39,
   "metadata": {
    "kernel": "ir"
   },
   "outputs": [
    {
     "data": {
      "text/html": [
       "<strong>svg:</strong> 3"
      ],
      "text/latex": [
       "\\textbf{svg:} 3"
      ],
      "text/markdown": [
       "**svg:** 3"
      ],
      "text/plain": [
       "svg \n",
       "  3 "
      ]
     },
     "metadata": {},
     "output_type": "display_data"
    },
    {
     "data": {
      "text/html": [
       "<strong>png:</strong> 2"
      ],
      "text/latex": [
       "\\textbf{png:} 2"
      ],
      "text/markdown": [
       "**png:** 2"
      ],
      "text/plain": [
       "png \n",
       "  2 "
      ]
     },
     "metadata": {},
     "output_type": "display_data"
    },
    {
     "data": {
      "image/png": "[encoded data removed]",
      "text/plain": [
       "Plot with title “ABG Corpus”"
      ]
     },
     "metadata": {},
     "output_type": "display_data"
    }
   ],
   "source": [
    "df <- read.table(\"/tmp/counts_numsyl_avgphlen\",header=TRUE)\n",
    "library(akima)\n",
    "fld <- with(df, interp(x = num_syllables, y = avg_phone_length, z = count))\n",
    "filled.contour(x = fld$x,\n",
    "               y = fld$y,\n",
    "               z = log10(fld$z),\n",
    "               color.palette =\n",
    "                 colorRampPalette(c(\"white\", \"black\")),\n",
    "               xlab = \"number of syllables\",\n",
    "               ylab = \"average number of phones per syllable\",\n",
    "               main = \"ABG Corpus\",\n",
    "               key.title = title(main = \"log(count)\", cex.main = 1))\n",
    "dev.copy(svg,\"/tmp/counts_numsyl_avgphlen.svg\")\n",
    "dev.off()"
   ]
  },
  {
   "cell_type": "markdown",
   "metadata": {
    "kernel": "ir"
   },
   "source": [
    "In the plot above we have considered the number of types (words) found in the ABG Corpus for a given relation between number of syllables and average number of phones per syllable.\n",
    "\n",
    "The corpus also have the frequency of occurrence of each word. We might take that in account and do the same graph again. Now we shall have a density plot considering the token frequency for each relation between number of syllables and average number of phones per syllable."
   ]
  },
  {
   "cell_type": "code",
   "execution_count": 40,
   "metadata": {
    "kernel": "Bash"
   },
   "outputs": [
    {
     "name": "stdout",
     "output_type": "stream",
     "text": [
      "freq_occ\tnum_syllables\tavg_phone_length\n",
      "683103\t1\t2\n",
      "439736\t2\t2\n",
      "420484\t2\t2.5\n",
      "379262\t1\t1\n",
      "304309\t1\t3\n",
      "236698\t3\t2\n",
      "230947\t3\t2.33333\n",
      "196936\t2\t1.5\n",
      "90642\t2\t3\n"
     ]
    }
   ],
   "source": [
    "cat /tmp/corpusabg.csv | tail -n +2 | awk -F',' '{print $6 \"\\t\" $4/$6 \"\\t\" $2}' | awk 'BEGIN{OFS=\"\\t\"} {count[$1,$2]+=$3;} END{for (key in count) {split(key,a,SUBSEP); print count[a[1],a[2]], a[1], a[2]}}' | sort -rn > /tmp/freq_numsyl_avgphlen\n",
    "sed -i '1ifreq_occ\\tnum_syllables\\tavg_phone_length' /tmp/freq_numsyl_avgphlen \n",
    "head /tmp/freq_numsyl_avgphlen"
   ]
  },
  {
   "cell_type": "code",
   "execution_count": 42,
   "metadata": {
    "kernel": "ir"
   },
   "outputs": [
    {
     "data": {
      "text/html": [
       "<strong>svg:</strong> 3"
      ],
      "text/latex": [
       "\\textbf{svg:} 3"
      ],
      "text/markdown": [
       "**svg:** 3"
      ],
      "text/plain": [
       "svg \n",
       "  3 "
      ]
     },
     "metadata": {},
     "output_type": "display_data"
    },
    {
     "data": {
      "text/html": [
       "<strong>png:</strong> 2"
      ],
      "text/latex": [
       "\\textbf{png:} 2"
      ],
      "text/markdown": [
       "**png:** 2"
      ],
      "text/plain": [
       "png \n",
       "  2 "
      ]
     },
     "metadata": {},
     "output_type": "display_data"
    },
    {
     "data": {
      "image/png": "[encoded data removed]",
      "text/plain": [
       "Plot with title “ABG Corpus”"
      ]
     },
     "metadata": {},
     "output_type": "display_data"
    }
   ],
   "source": [
    "df <- read.table(\"/tmp/freq_numsyl_avgphlen\",header=TRUE)\n",
    "library(akima)\n",
    "fld <- with(df, interp(x = num_syllables, y = avg_phone_length, z = freq_occ))\n",
    "filled.contour(x = fld$x,\n",
    "               y = fld$y,\n",
    "               z = log10(fld$z),\n",
    "               color.palette =\n",
    "                 colorRampPalette(c(\"white\", \"black\")),\n",
    "               xlab = \"number of syllables\",\n",
    "               ylab = \"average number of phones per syllable\",\n",
    "               main = \"ABG Corpus\",\n",
    "               key.title = title(main = \"log(freq)\", cex.main = 1))\n",
    "dev.copy(svg,\"/tmp/freq_numsyl_avgphlen.svg\")\n",
    "dev.off()"
   ]
  },
  {
   "cell_type": "code",
   "execution_count": null,
   "metadata": {
    "kernel": "ir"
   },
   "outputs": [],
   "source": []
  }
 ],
 "metadata": {
  "kernelspec": {
   "display_name": "SoS",
   "language": "sos",
   "name": "sos"
  },
  "language_info": {
   "codemirror_mode": "sos",
   "file_extension": ".sos",
   "mimetype": "text/x-sos",
   "name": "sos",
   "nbconvert_exporter": "sos_notebook.converter.SoS_Exporter",
   "pygments_lexer": "sos"
  },
  "sos": {
   "kernels": [
    [
     "Bash",
     "bash",
     "Bash",
     "#E6EEFF",
     "shell"
    ],
    [
     "ir",
     "ir",
     "R",
     "",
     "r"
    ]
   ],
   "panel": {
    "displayed": true,
    "height": 0
   },
   "version": "0.19.15"
  }
 },
 "nbformat": 4,
 "nbformat_minor": 2
}
