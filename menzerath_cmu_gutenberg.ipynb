{
 "cells": [
  {
   "cell_type": "markdown",
   "metadata": {
    "kernel": "SoS"
   },
   "source": [
    "# On Menzerath's law in English - CMU and Gutenberg\n",
    "\n",
    "\n",
    "In his work, Altmann (1980) proposed a mathematical formulation to Menzerath's observations and he also fitted the model using the data from Roberts (1965) (made from 15.465.010 tokens).\n",
    "\n",
    "- Altmann, Gabriel. 1980. Prolegomena to Menzerath’s law. Glottometrika 2. 1–10.\n",
    "- Roberts, Aaron Hood. 1965. A statistical linguistic analysis of american english Janua linguarum: Series practica. Mouton.\n",
    "\n",
    "We propose here to revisit Menzerath's law and Altmann's formulation, using as data source: 1) Ulysses by James Joice (which was used by G.K. Zipf in his studies) and 2) the top 100 books on Gutenberg's database (notice that the list of top 100 might change in time).\n",
    "\n",
    "This sources are text only and they will be used to get the number of occurrence of words. In order to get the syllabification of words and their phonetic transcription we will use the online dictionary [dictionary.com](http://www.dictionary.com) and [the CMU Pronouncing Dictionary](http://www.speech.cs.cmu.edu/cgi-bin/cmudict)."
   ]
  },
  {
   "cell_type": "code",
   "execution_count": 5,
   "metadata": {
    "kernel": "Bash"
   },
   "outputs": [
    {
     "name": "stdout",
     "output_type": "stream",
     "text": [
      "trying to download from http://www.gutenberg.org/files/84/84-0.txt... 1/10\n",
      "done\n",
      "Success!\n",
      "trying to download from http://www.gutenberg.org/files/1342/1342-0.txt... 1/10\n",
      "done\n",
      "Success!\n",
      "trying to download from http://www.gutenberg.org/files/1080/1080-0.txt... 1/10\n",
      "done\n",
      "Success!\n",
      "trying to download from http://www.gutenberg.org/files/43/43-0.txt... 1/10\n",
      "done\n",
      "Success!\n",
      "trying to download from http://www.gutenberg.org/files/2701/2701-0.txt... 1/10\n",
      "done\n",
      "Success!\n",
      "trying to download from http://www.gutenberg.org/files/25525/25525-0.txt... 1/10\n",
      "done\n",
      "Success!\n",
      "trying to download from http://www.gutenberg.org/files/46/46-0.txt... 1/10\n",
      "done\n",
      "Success!\n",
      "http://www.gutenberg.org/files/16328/16328-0.txt not found\n",
      "trying to download from http://www.gutenberg.org/files/16328/16328.txt... 1/10\n",
      "done\n",
      "iconv: illegal input sequence at position 34563\n",
      "Success!\n",
      "trying to download from http://www.gutenberg.org/files/98/98-0.txt... 1/10\n",
      "done\n",
      "Success!\n",
      "http://www.gutenberg.org/files/2542/2542-0.txt not found\n",
      "trying to download from http://www.gutenberg.org/files/2542/2542.txt... 1/10\n",
      "done\n",
      "Success!\n",
      "trying to download from http://www.gutenberg.org/files/41/41-0.txt... 1/10\n",
      "done\n",
      "Success!\n",
      "trying to download from http://www.gutenberg.org/files/219/219-0.txt... 1/10\n",
      "done\n",
      "Success!\n",
      "trying to download from http://www.gutenberg.org/files/11/11-0.txt... 1/10\n",
      "done\n",
      "Success!\n",
      "http://www.gutenberg.org/files/345/345-0.txt not found\n",
      "trying to download from http://www.gutenberg.org/files/345/345.txt... 1/10\n",
      "done\n",
      "Success!\n",
      "http://www.gutenberg.org/files/7256/7256-0.txt not found\n",
      "trying to download from http://www.gutenberg.org/files/7256/7256.txt... 1/10\n",
      "done\n",
      "Success!\n",
      "trying to download from http://www.gutenberg.org/files/205/205-0.txt... 1/10\n",
      "done\n",
      "Success!\n",
      "trying to download from http://www.gutenberg.org/files/25344/25344-0.txt... 1/10\n",
      "done\n",
      "Success!\n",
      "trying to download from http://www.gutenberg.org/files/76/76-0.txt... 1/10\n",
      "done\n",
      "Success!\n",
      "trying to download from http://www.gutenberg.org/files/1661/1661-0.txt... 1/10\n",
      "done\n",
      "Success!\n",
      "http://www.gutenberg.org/files/844/844-0.txt not found\n",
      "trying to download from http://www.gutenberg.org/files/844/844.txt... 1/10\n",
      "done\n",
      "Success!\n",
      "trying to download from http://www.gutenberg.org/files/1952/1952-0.txt... 1/10\n",
      "done\n",
      "Success!\n",
      "http://www.gutenberg.org/files/5200/5200-0.txt not found\n",
      "trying to download from http://www.gutenberg.org/files/5200/5200.txt... 1/10\n",
      "done\n",
      "Success!\n",
      "http://www.gutenberg.org/files/1260/1260-0.txt not found\n",
      "trying to download from http://www.gutenberg.org/files/1260/1260.txt... 1/10\n",
      "done\n",
      "Success!\n",
      "trying to download from http://www.gutenberg.org/files/2591/2591-0.txt... 1/10\n",
      "done\n",
      "Success!\n",
      "trying to download from http://www.gutenberg.org/files/4300/4300-0.txt... 1/10\n",
      "done\n",
      "Success!\n",
      "http://www.gutenberg.org/files/174/174-0.txt not found\n",
      "trying to download from http://www.gutenberg.org/files/174/174.txt... 1/10\n",
      "done\n",
      "Success!\n",
      "trying to download from http://www.gutenberg.org/files/1250/1250-0.txt... 1/10\n",
      "done\n",
      "Success!\n",
      "trying to download from http://www.gutenberg.org/files/408/408-0.txt... 1/10\n",
      "done\n",
      "Success!\n",
      "trying to download from http://www.gutenberg.org/files/160/160-0.txt... 1/10\n",
      "done\n",
      "Success!\n",
      "trying to download from http://www.gutenberg.org/files/74/74-0.txt... 1/10\n",
      "done\n",
      "Success!\n",
      "http://www.gutenberg.org/files/1232/1232-0.txt not found\n",
      "trying to download from http://www.gutenberg.org/files/1232/1232.txt... 1/10\n",
      "done\n",
      "Success!\n",
      "http://www.gutenberg.org/files/23/23-0.txt not found\n",
      "trying to download from http://www.gutenberg.org/files/23/23.txt... 1/10\n",
      "done\n",
      "Success!\n",
      "http://www.gutenberg.org/files/1635/1635-0.txt not found\n",
      "trying to download from http://www.gutenberg.org/files/1635/1635.txt... 1/10\n",
      "done\n",
      "Success!\n",
      "trying to download from http://www.gutenberg.org/files/16/16-0.txt... 1/10\n",
      "done\n",
      "Success!\n",
      "trying to download from http://www.gutenberg.org/files/1400/1400-0.txt... 1/10\n",
      "done\n",
      "Success!\n",
      "trying to download from http://www.gutenberg.org/files/2600/2600-0.txt... 1/10\n",
      "done\n",
      "Success!\n",
      "trying to download from http://www.gutenberg.org/files/58975/58975-0.txt... 1/10\n",
      "done\n",
      "Success!\n",
      "trying to download from http://www.gutenberg.org/files/2554/2554-0.txt... 1/10\n",
      "done\n",
      "Success!\n",
      "http://www.gutenberg.org/files/1497/1497-0.txt not found\n",
      "trying to download from http://www.gutenberg.org/files/1497/1497.txt... 1/10\n",
      "done\n",
      "Success!\n",
      "trying to download from http://www.gutenberg.org/files/120/120-0.txt... 1/10\n",
      "done\n",
      "Success!\n",
      "http://www.gutenberg.org/files/3207/3207-0.txt not found\n",
      "trying to download from http://www.gutenberg.org/files/3207/3207.txt... 1/10\n",
      "done\n",
      "Success!\n",
      "trying to download from http://www.gutenberg.org/files/2852/2852-0.txt... 1/10\n",
      "done\n",
      "Success!\n",
      "trying to download from http://www.gutenberg.org/files/203/203-0.txt... 1/10\n",
      "done\n",
      "Success!\n",
      "http://www.gutenberg.org/files/5740/5740-0.txt not found\n",
      "http://www.gutenberg.org/files/5740/5740.txt not found\n",
      "http://www.gutenberg.org/files/5740/5740.txt.uff-8 not found\n",
      "http://www.gutenberg.org/files/5740/5740-0.txt not found\n",
      "http://www.gutenberg.org/files/5740/5740.txt not found\n",
      "http://www.gutenberg.org/files/5740/5740.txt.uff-8 not found\n",
      "http://www.gutenberg.org/files/5740/5740-0.txt not found\n",
      "http://www.gutenberg.org/files/5740/5740.txt not found\n",
      "http://www.gutenberg.org/files/5740/5740.txt.uff-8 not found\n",
      "File 5740.txt not found.\n",
      "trying to download from http://www.gutenberg.org/files/158/158-0.txt... 1/10\n",
      "done\n",
      "Success!\n",
      "trying to download from http://www.gutenberg.org/files/36/36-0.txt... 1/10\n",
      "done\n",
      "Success!\n",
      "trying to download from http://www.gutenberg.org/files/2814/2814-0.txt... 1/10\n",
      "done\n",
      "Success!\n",
      "trying to download from http://www.gutenberg.org/files/1184/1184-0.txt... 1/10\n",
      "done\n",
      "Success!\n",
      "trying to download from http://www.gutenberg.org/files/28054/28054-0.txt... 1/10\n",
      "done\n",
      "Success!\n",
      "http://www.gutenberg.org/files/3825/3825-0.txt not found\n",
      "trying to download from http://www.gutenberg.org/files/3825/3825.txt... 1/10\n",
      "done\n",
      "Success!\n",
      "http://www.gutenberg.org/files/514/514-0.txt not found\n",
      "trying to download from http://www.gutenberg.org/files/514/514.txt... 1/10\n",
      "done\n",
      "Success!\n",
      "http://www.gutenberg.org/files/768/768-0.txt not found\n",
      "trying to download from http://www.gutenberg.org/files/768/768.txt... 1/10\n",
      "done\n",
      "Success!\n",
      "http://www.gutenberg.org/files/33283/33283-0.txt not found\n",
      "http://www.gutenberg.org/files/33283/33283.txt not found\n",
      "http://www.gutenberg.org/files/33283/33283.txt.uff-8 not found\n",
      "http://www.gutenberg.org/files/33283/33283-0.txt not found\n",
      "http://www.gutenberg.org/files/33283/33283.txt not found\n",
      "http://www.gutenberg.org/files/33283/33283.txt.uff-8 not found\n",
      "http://www.gutenberg.org/files/33283/33283-0.txt not found\n",
      "http://www.gutenberg.org/files/33283/33283.txt not found\n",
      "http://www.gutenberg.org/files/33283/33283.txt.uff-8 not found\n",
      "File 33283.txt not found.\n",
      "trying to download from http://www.gutenberg.org/files/3600/3600-0.txt... 1/10\n",
      "done\n",
      "Success!\n",
      "http://www.gutenberg.org/files/2500/2500-0.txt not found\n",
      "trying to download from http://www.gutenberg.org/files/2500/2500.txt... 1/10\n",
      "done\n",
      "Success!\n",
      "http://www.gutenberg.org/files/11030/11030-0.txt not found\n",
      "trying to download from http://www.gutenberg.org/files/11030/11030.txt... 1/10\n",
      "done\n",
      "Success!\n",
      "trying to download from http://www.gutenberg.org/files/209/209-0.txt... 1/10\n",
      "done\n",
      "Success!\n",
      "trying to download from http://www.gutenberg.org/files/45/45-0.txt... 1/10\n",
      "done\n",
      "Success!\n",
      "trying to download from http://www.gutenberg.org/files/57490/57490-0.txt... 1/10\n",
      "done\n",
      "Success!\n",
      "http://www.gutenberg.org/files/27827/27827-0.txt not found\n",
      "trying to download from http://www.gutenberg.org/files/27827/27827.txt... 1/10\n",
      "done\n",
      "Success!\n",
      "trying to download from http://www.gutenberg.org/files/829/829-0.txt... 1/10\n",
      "done\n",
      "Success!\n",
      "trying to download from http://www.gutenberg.org/files/2148/2148-0.txt... 1/10\n",
      "done\n",
      "Success!\n",
      "http://www.gutenberg.org/files/15399/15399-0.txt not found\n",
      "trying to download from http://www.gutenberg.org/files/15399/15399.txt... 1/10\n",
      "done\n",
      "iconv: illegal input sequence at position 48241\n",
      "Success!\n",
      "trying to download from http://www.gutenberg.org/files/244/244-0.txt... 1/10\n",
      "done\n",
      "Success!\n",
      "http://www.gutenberg.org/files/20203/20203-0.txt not found\n",
      "trying to download from http://www.gutenberg.org/files/20203/20203.txt... 1/10\n",
      "done\n",
      "Success!\n",
      "trying to download from http://www.gutenberg.org/files/140/140-0.txt... 1/10\n"
     ]
    },
    {
     "name": "stdout",
     "output_type": "stream",
     "text": [
      "done\n",
      "Success!\n",
      "trying to download from http://www.gutenberg.org/files/135/135-0.txt... 1/10\n",
      "done\n",
      "Success!\n",
      "http://www.gutenberg.org/files/55/55-0.txt not found\n",
      "trying to download from http://www.gutenberg.org/files/55/55.txt... 1/10\n",
      "done\n",
      "Success!\n",
      "trying to download from http://www.gutenberg.org/files/6130/6130-0.txt... 1/10\n",
      "done\n",
      "Success!\n",
      "http://www.gutenberg.org/files/161/161-0.txt not found\n",
      "trying to download from http://www.gutenberg.org/files/161/161.txt... 1/10\n",
      "done\n",
      "Success!\n",
      "http://www.gutenberg.org/files/3296/3296-0.txt not found\n",
      "trying to download from http://www.gutenberg.org/files/3296/3296.txt... 1/10\n",
      "done\n",
      "Success!\n",
      "http://www.gutenberg.org/files/7370/7370-0.txt not found\n",
      "trying to download from http://www.gutenberg.org/files/7370/7370.txt... 1/10\n",
      "done\n",
      "Success!\n",
      "trying to download from http://www.gutenberg.org/files/58585/58585-0.txt... 1/10\n",
      "done\n",
      "Success!\n",
      "http://www.gutenberg.org/files/42324/42324-0.txt not found\n",
      "trying to download from http://www.gutenberg.org/files/42324/42324.txt... 1/10\n",
      "done\n",
      "Success!\n",
      "http://www.gutenberg.org/files/19942/19942-0.txt not found\n",
      "trying to download from http://www.gutenberg.org/files/19942/19942.txt... 1/10\n",
      "done\n",
      "Success!\n",
      "http://www.gutenberg.org/files/4363/4363-0.txt not found\n",
      "trying to download from http://www.gutenberg.org/files/4363/4363.txt... 1/10\n",
      "done\n",
      "Success!\n",
      "http://www.gutenberg.org/files/2680/2680-0.txt not found\n",
      "trying to download from http://www.gutenberg.org/files/2680/2680.txt... 1/10\n",
      "done\n",
      "Success!\n",
      "trying to download from http://www.gutenberg.org/files/1998/1998-0.txt... 1/10\n",
      "done\n",
      "Success!\n",
      "http://www.gutenberg.org/files/972/972-0.txt not found\n",
      "trying to download from http://www.gutenberg.org/files/972/972.txt... 1/10\n",
      "done\n",
      "Success!\n",
      "http://www.gutenberg.org/files/375/375-0.txt not found\n",
      "trying to download from http://www.gutenberg.org/files/375/375.txt... 1/10\n",
      "done\n",
      "Success!\n",
      "http://www.gutenberg.org/files/34901/34901-0.txt not found\n",
      "trying to download from http://www.gutenberg.org/files/34901/34901.txt... 1/10\n",
      "done\n",
      "Success!\n",
      "trying to download from http://www.gutenberg.org/files/35/35-0.txt... 1/10\n",
      "done\n",
      "Success!\n",
      "trying to download from http://www.gutenberg.org/files/3176/3176-0.txt... 1/10\n",
      "done\n",
      "Success!\n",
      "http://www.gutenberg.org/files/1001/1001-0.txt not found\n",
      "trying to download from http://www.gutenberg.org/files/1001/1001.txt... 1/10\n",
      "done\n",
      "Success!\n",
      "trying to download from http://www.gutenberg.org/files/1251/1251-0.txt... 1/10\n",
      "done\n",
      "Success!\n",
      "trying to download from http://www.gutenberg.org/files/1322/1322-0.txt... 1/10\n",
      "done\n",
      "Success!\n",
      "http://www.gutenberg.org/files/45502/45502-0.txt not found\n",
      "trying to download from http://www.gutenberg.org/files/45502/45502.txt... 1/10\n",
      "done\n",
      "Success!\n",
      "http://www.gutenberg.org/files/779/779-0.txt not found\n",
      "trying to download from http://www.gutenberg.org/files/779/779.txt... 1/10\n",
      "done\n",
      "iconv: illegal input sequence at position 86512\n",
      "Success!\n",
      "trying to download from http://www.gutenberg.org/files/786/786-0.txt... 1/10\n",
      "done\n",
      "Success!\n",
      "http://www.gutenberg.org/files/815/815-0.txt not found\n",
      "trying to download from http://www.gutenberg.org/files/815/815.txt... 1/10\n",
      "done\n",
      "Success!\n",
      "http://www.gutenberg.org/files/730/730-0.txt not found\n",
      "trying to download from http://www.gutenberg.org/files/730/730.txt... 1/10\n",
      "done\n",
      "Success!\n",
      "http://www.gutenberg.org/files/16643/16643-0.txt not found\n",
      "trying to download from http://www.gutenberg.org/files/16643/16643.txt... 1/10\n",
      "done\n",
      "Success!\n",
      "http://www.gutenberg.org/files/44082/44082-0.txt not found\n",
      "trying to download from http://www.gutenberg.org/files/44082/44082.txt... 1/10\n",
      "done\n",
      "Success!\n",
      "trying to download from http://www.gutenberg.org/files/215/215-0.txt... 1/10\n",
      "done\n",
      "Success!\n",
      "trying to download from http://www.gutenberg.org/files/1727/1727-0.txt... 1/10\n",
      "done\n",
      "Success!\n",
      "http://www.gutenberg.org/files/5827/5827-0.txt not found\n",
      "trying to download from http://www.gutenberg.org/files/5827/5827.txt... 1/10\n",
      "done\n",
      "Success!\n",
      "trying to download from http://www.gutenberg.org/files/1934/1934-0.txt... 1/10\n",
      "done\n",
      "Success!\n",
      "trying to download from http://www.gutenberg.org/files/3090/3090-0.txt... 1/10\n",
      "done\n",
      "Success!\n",
      "trying to download from http://www.gutenberg.org/files/236/236-0.txt... 1/10\n",
      "done\n",
      "Success!\n",
      "trying to download from http://www.gutenberg.org/files/4517/4517-0.txt... 1/10\n",
      "done\n",
      "Success!\n",
      "1001.txt   1635.txt   25344.txt  375.txt    7256.txt\n",
      "1080.txt   1661.txt   2542.txt   3825.txt   730.txt\n",
      "11030.txt  16643.txt  25525.txt  408.txt    7370.txt\n",
      "1184.txt   16.txt     2554.txt   41.txt     74.txt\n",
      "11.txt     1727.txt   2591.txt   42324.txt  768.txt\n",
      "120.txt    174.txt    2600.txt   4300.txt   76.txt\n",
      "1232.txt   1934.txt   2680.txt   4363.txt   779.txt\n",
      "1250.txt   1952.txt   2701.txt   43.txt     786.txt\n",
      "1251.txt   19942.txt  27827.txt  44082.txt  815.txt\n",
      "1260.txt   1998.txt   28054.txt  4517.txt   829.txt\n",
      "1322.txt   20203.txt  2814.txt   45502.txt  844.txt\n",
      "1342.txt   203.txt    2852.txt   45.txt     84.txt\n",
      "135.txt    205.txt    3090.txt   46.txt     972.txt\n",
      "1400.txt   209.txt    3176.txt   514.txt    98.txt\n",
      "140.txt    2148.txt   3207.txt   5200.txt   \u001b[0m\u001b[01;32mdownloadGutenbergTop100in30days.sh\u001b[0m\n",
      "1497.txt   215.txt    3296.txt   55.txt     top100.html\n",
      "15399.txt  219.txt    345.txt    57490.txt  top100list\n",
      "158.txt    236.txt    34901.txt  5827.txt\n",
      "160.txt    23.txt     35.txt     58585.txt\n",
      "161.txt    244.txt    3600.txt   58975.txt\n",
      "16328.txt  2500.txt   36.txt     6130.txt\n"
     ]
    }
   ],
   "source": [
    "cd /tmp\n",
    "mkdir top100\n",
    "cd top100\n",
    "wget -q https://raw.githubusercontent.com/leolca/clscripts/master/downloadGutenbergTop100in30days.sh\n",
    "chmod +x downloadGutenbergTop100in30days.sh\n",
    "./downloadGutenbergTop100in30days.sh\n",
    "ls"
   ]
  },
  {
   "cell_type": "code",
   "execution_count": 1,
   "metadata": {
    "kernel": "Bash"
   },
   "outputs": [
    {
     "name": "stdout",
     "output_type": "stream",
     "text": [
      "/tmp/cmudict: ASCII text\n"
     ]
    }
   ],
   "source": [
    "wget -q http://svn.code.sf.net/p/cmusphinx/code/trunk/cmudict/cmudict.0.7a -O /tmp/cmudict\n",
    "file /tmp/cmudict"
   ]
  },
  {
   "cell_type": "markdown",
   "metadata": {
    "kernel": "Bash"
   },
   "source": [
    "The first lines of CMU dictionary has many comments (lines stating with ;;) and pronunciation of punctuation signs. We will remove them by removing the first 126 lines.\n",
    "\n",
    "Words are written in upercase and they might have a dash (-) and apostophre ('). We will use ```sed``` to remove all remaining characters (but white space). \n",
    "\n",
    "Words are listed in the first column, so we use ```awk``` to print just this column. Some words have multiple pronounciation for example: \n",
    "\n",
    "again /əˈgɛn, əˈgeɪn/\n",
    "\n",
    "AGAIN  AH0 G EH1 N\n",
    "\n",
    "AGAIN(1)  AH0 G EY1 N\n",
    "\n",
    "where we see both representations in CMU dictionary. To list the words, we just need one of them, so we use ```uniq```. \n"
   ]
  },
  {
   "cell_type": "code",
   "execution_count": 2,
   "metadata": {
    "kernel": "Bash"
   },
   "outputs": [],
   "source": [
    "tail -n +127 /tmp/cmudict | sed \"s/[^A-Z\\-\\'\\ ]//g\" | \n",
    "    awk '{print tolower($1)}' | \n",
    "    sort | uniq > /tmp/cmuwordlist"
   ]
  },
  {
   "cell_type": "markdown",
   "metadata": {
    "kernel": "Bash"
   },
   "source": [
    "Now we're gonna use the script ```getsyllabification.sh``` from [clscripts](https://github.com/leolca/clscripts) to retrieve the word syllabification from online dictionary.\n",
    "\n",
    "We present bellow 10 random examples taken from our list of words."
   ]
  },
  {
   "cell_type": "code",
   "execution_count": 7,
   "metadata": {
    "kernel": "Bash",
    "scrolled": false
   },
   "outputs": [
    {
     "name": "stdout",
     "output_type": "stream",
     "text": [
      "pacholski\n",
      "forbis\n",
      "queens\n",
      "fulks\n",
      "bandow's\n",
      "hawn\n",
      "eth-i-cal\n",
      "hotz\n",
      "in-ter-link\n",
      "in-ex-pe-ri-ence\n"
     ]
    }
   ],
   "source": [
    "wget -q https://raw.githubusercontent.com/leolca/clscripts/master/getsyllabification.sh -O /tmp/getsyllabification.sh\n",
    "chmod +x /tmp/getsyllabification.sh\n",
    "shuf -n 10 /tmp/cmuwordlist | /tmp/getsyllabification.sh"
   ]
  },
  {
   "cell_type": "markdown",
   "metadata": {
    "kernel": "Bash"
   },
   "source": [
    "And now for each word in the list we're going to retrieve its syllafication. The file ```cmuwordsyllist``` will store the result: word and word syllabification."
   ]
  },
  {
   "cell_type": "code",
   "execution_count": null,
   "metadata": {
    "kernel": "Bash"
   },
   "outputs": [],
   "source": [
    "while read word; do\n",
    "  syl=$(echo \"$word\" | /tmp/getsyllabification.sh)\n",
    "  echo -e \"$word\\t$syl\" >> /tmp/cmuwordsyllist\n",
    "done </tmp/cmuwordlist"
   ]
  },
  {
   "cell_type": "code",
   "execution_count": 11,
   "metadata": {
    "kernel": "Bash"
   },
   "outputs": [
    {
     "name": "stdout",
     "output_type": "stream",
     "text": [
      "abandoned\tabandoned\n",
      "abilene\tabilene\n",
      "abundance\ta-bun-dance\n",
      "abood\tabood\n",
      "aborn\taborn\n",
      "abbie\tabbie\n",
      "abott\tabott\n",
      "abandonments\ta-ban-don\n",
      "abuses\ta-buse\n",
      "academic\tac-a-dem-ic\n"
     ]
    }
   ],
   "source": [
    "shuf -n 10 /tmp/cmuwordsyllist"
   ]
  },
  {
   "cell_type": "markdown",
   "metadata": {
    "kernel": "Bash"
   },
   "source": [
    "It is difficul to determine a correct syllabification in all cases. The syllable is not easy to define precisely so there is no 'gold standard' syllabification approach. We have acquired the syllabification of words from an online dictionary, but many words and flexed forms or derived words are not found in online dictionary. In oder cases are found, the syllabification given is for the stem word. An algorithmic approach is able to overcome these missing cases, but it might be not so accurate. Either way, we're gonna use the algorithmic syllabification approach from Kyle Gorman, so we might state comparisions and fill the gaps.\n",
    "\n",
    "Python module for syllabifying English ARPABET transcriptions <br>\n",
    "https://github.com/kylebgorman/syllabify <br>\n",
    "https://github.com/kylebgorman/syllabify/raw/master/manual.pdf"
   ]
  },
  {
   "cell_type": "code",
   "execution_count": null,
   "metadata": {
    "kernel": "Bash"
   },
   "outputs": [],
   "source": [
    "wget -q https://raw.githubusercontent.com/kylebgorman/syllabify/master/syllabify.py -O /tmp/syllabify.py\n",
    "sed -i \"184s/.*/    return '-'.join('_'.join('_'.join(p) for p in syl if p) for syl in syllab)/\" /tmp/syllabify.py"
   ]
  },
  {
   "cell_type": "code",
   "execution_count": 15,
   "metadata": {
    "kernel": "Bash"
   },
   "outputs": [
    {
     "name": "stdout",
     "output_type": "stream",
     "text": [
      "from syllabify import syllabify,pprint\n",
      "import sys\n",
      "\n",
      "def eprint(*args, **kwargs):\n",
      "    print(*args, file=sys.stderr, **kwargs)\n",
      "\n",
      "if __name__ == '__main__':\n",
      "  source = open('/tmp/cmudict','r')\n",
      "  for line in source:\n",
      "      if line[0] == ';': # header, commenst\n",
      "          continue;\n",
      "      (word, pron) = line.rstrip().split('  ',1);\n",
      "      try:\n",
      "        syllables = syllabify(pron.split()) \n",
      "        print(\"{}\\t{}\\t{}\".format(word, len(syllables), pprint(syllables)))\n",
      "      except ValueError as e:\n",
      "        eprint(str(e))\n",
      "\n",
      "\n"
     ]
    }
   ],
   "source": [
    "cat /tmp/syllabifyallcmu.py"
   ]
  },
  {
   "cell_type": "code",
   "execution_count": 3,
   "metadata": {
    "kernel": "Bash"
   },
   "outputs": [
    {
     "name": "stdout",
     "output_type": "stream",
     "text": [
      "could not syllabify ['F', 'S'], got []\n",
      "could not syllabify ['TH', 'S'], got []\n"
     ]
    }
   ],
   "source": [
    "    python3 /tmp/syllabifyallcmu.py > /tmp/cmusyllabification"
   ]
  },
  {
   "cell_type": "markdown",
   "metadata": {
    "kernel": "Bash"
   },
   "source": [
    "Lets see 10 random lines on the file we just created:"
   ]
  },
  {
   "cell_type": "code",
   "execution_count": 4,
   "metadata": {
    "kernel": "Bash"
   },
   "outputs": [
    {
     "name": "stdout",
     "output_type": "stream",
     "text": [
      "RUBOUT\t2\tR_AH1-B_AW2_T\n",
      "ENCISO\t3\tIH0_N-S_IY1-S_OW0\n",
      "OVULATIONS\t4\tOW2_V-Y_AH0-L_EY1-SH_AH0_N_Z\n",
      "SHAUN\t1\tSH_AO1_N\n",
      "ELECTRICIANS\t4\tIH0-L_EH0_K-T_R_IH1-SH_AH0_N_Z\n",
      "VIBHU\t2\tV_IY1-B_UW0\n",
      "WHITMILL\t2\tW_IH1_T-M_IH2_L\n",
      "ALMANZAR\t3\tAA0_L-M_AA0_N-Z_AA1_R\n",
      "SCOOPED\t1\tS_K_UW1_P_T\n",
      "LOBB\t1\tL_AA1_B\n"
     ]
    }
   ],
   "source": [
    "shuf -n 10 /tmp/cmusyllabification"
   ]
  },
  {
   "cell_type": "markdown",
   "metadata": {
    "kernel": "Bash"
   },
   "source": [
    "We have three columns: word, number of syllables and CMU phonetic transcription. We just need the number of syllables. So lets convert the word to lower case, as we did in ```/tmp/cmuwordlist``` and ```/tmp/cmuwordsyllist```. Lets also remove those extra pronounciation of words and some items with non alphanumeric characteres. For examples, we will remove the following:\n",
    "\n",
    "%PERCENT\t2\tP_ER0-S_EH1_N_T <br>\n",
    "/SLASH\t1\tS_L_AE1_SH <br>\n",
    "BAGGAGE(1)      2       B_AE1-G_IH0_JH <br>\n",
    "CLOTHES(1)      1       K_L_OW1_Z"
   ]
  },
  {
   "cell_type": "code",
   "execution_count": 5,
   "metadata": {
    "kernel": "Bash"
   },
   "outputs": [
    {
     "name": "stdout",
     "output_type": "stream",
     "text": [
      "vorhies\t2\n",
      "sbf\t3\n",
      "suckling\t2\n",
      "certifying\t4\n",
      "thursday's\t2\n",
      "fortas\t2\n",
      "mired\t1\n",
      "worstell\t2\n",
      "splicing\t2\n",
      "ton\t1\n"
     ]
    }
   ],
   "source": [
    "awk '{print tolower($1)\"\\t\"$2}' /tmp/cmusyllabification | sed \"/[^a-z0-9\\ \\t']/d\" > /tmp/cmusyllnum1\n",
    "shuf -n 10 /tmp/cmusyllnum1"
   ]
  },
  {
   "cell_type": "code",
   "execution_count": 7,
   "metadata": {
    "kernel": "Bash"
   },
   "outputs": [
    {
     "name": "stdout",
     "output_type": "stream",
     "text": [
      "kyoshi\t1\n",
      "jankiewicz\t1\n",
      "mauger\t1\n",
      "film\t1\n",
      "households\t2\n",
      "achoa's\t1\n",
      "conceptions\t3\n",
      "coleslaw\t2\n",
      "agrivisor\t1\n",
      "batzer\t1\n"
     ]
    }
   ],
   "source": [
    "awk '{split($2,a,\"-\"); print $1\"\\t\"length(a)}' /tmp/cmuwordsyllist > /tmp/cmusyllnum2\n",
    "shuf -n 10 /tmp/cmusyllnum2"
   ]
  },
  {
   "cell_type": "markdown",
   "metadata": {
    "kernel": "Bash"
   },
   "source": [
    "We might now join both files."
   ]
  },
  {
   "cell_type": "code",
   "execution_count": 8,
   "metadata": {
    "kernel": "Bash"
   },
   "outputs": [
    {
     "name": "stdout",
     "output_type": "stream",
     "text": [
      "join: /dev/fd/63:2325: is not sorted: alex's\t3\n",
      "join: /dev/fd/62:52329: is not sorted: hughes\t2\n"
     ]
    },
    {
     "ename": "",
     "evalue": "1",
     "output_type": "error",
     "traceback": []
    }
   ],
   "source": [
    "join -a1 -a2 -e- <(sort -k1 /tmp/cmusyllnum1) <(sort -k1 /tmp/cmusyllnum2) > /tmp/joinedfile"
   ]
  },
  {
   "cell_type": "markdown",
   "metadata": {
    "kernel": "Bash"
   },
   "source": [
    "In some situations, the online dictionary return wrong number of syllables. Sometimes it returns the lemmatized word syllabification. For example: ```abbreviating``` returns ```ab·bre·vi·ate```, which has 4 syllables. When the word is not found, it usually return the word itself. For examplo: ```abcotek```, which will be considered as a one syllable word. But there are strange situations as ```dix``` which returns ```Dor·o·the·a Dix```, since the dictionary goes to *Dorothea Dix*<sup>1</sup> and it will be counted as 5 syllable word.\n",
    "\n",
    "\n",
    "<font size=\"1\">[1]: U.S. social activist, reformer, and Union army Superintendent of Women Nurses, who worked to improve prison conditions and to provide asylums for the mentally ill (b.1802--d.1887).</font>\n",
    "\n",
    "\n",
    "When considering inflected words or words with pre/su-fixes, we would rather take from the two syllabifications approach the one with the higher value, as well as when the word is not found in the dicitionary. But there are some exceptions, like the word ```dix``` in the exampple above."
   ]
  },
  {
   "cell_type": "code",
   "execution_count": 9,
   "metadata": {
    "kernel": "Bash"
   },
   "outputs": [
    {
     "name": "stdout",
     "output_type": "stream",
     "text": [
      "25206\n",
      "45064\n"
     ]
    }
   ],
   "source": [
    "awk '{n=($2<$3)?$3:$2; print $1,n}' /tmp/joinedfile > /tmp/cmusyllnum\n",
    "\n",
    "# how many syllabification resulted in the same number of syllables?\n",
    "awk '($2==$3){print}' /tmp/joinedfile | wc -l\n",
    "# how many syllabification resulted in different numbers of syllables?\n",
    "awk '($2!=$3)&&($2>0)&&($3>0){print}' /tmp/joinedfile | wc -l\n"
   ]
  },
  {
   "cell_type": "markdown",
   "metadata": {
    "kernel": "Bash"
   },
   "source": [
    "Bellow we list the situations when the dictionary syllabification returned word of length greater by 3 or more than the automatic syllabification. In all situations it seems reasonable to choose the automatic syllabification (second column) rather then the dictionary syllabification (third column)."
   ]
  },
  {
   "cell_type": "code",
   "execution_count": 10,
   "metadata": {
    "kernel": "Bash"
   },
   "outputs": [
    {
     "name": "stdout",
     "output_type": "stream",
     "text": [
      "aer 1 4\n",
      "affordability 6 3\n",
      "avon 2 5\n",
      "carthaginian 5 2\n",
      "confrontational 5 2\n",
      "congeniality 6 3\n",
      "congressionally 5 2\n",
      "conspiratorially 7 4\n",
      "dix 1 4\n",
      "enforceability 6 2\n",
      "geniality 5 2\n",
      "hirabayashi 5 2\n",
      "impartiality 6 3\n",
      "jeffersonian 5 2\n",
      "kant 1 4\n",
      "maneuverability 7 3\n"
     ]
    }
   ],
   "source": [
    "awk 'function abs(v) {return v<0?-v:v} (abs($2-$3)>2)&&($3>1){print}' /tmp/joinedfile "
   ]
  },
  {
   "cell_type": "code",
   "execution_count": null,
   "metadata": {
    "kernel": "Bash"
   },
   "outputs": [],
   "source": []
  }
 ],
 "metadata": {
  "kernelspec": {
   "display_name": "SoS",
   "language": "sos",
   "name": "sos"
  },
  "language_info": {
   "codemirror_mode": "sos",
   "file_extension": ".sos",
   "mimetype": "text/x-sos",
   "name": "sos",
   "nbconvert_exporter": "sos_notebook.converter.SoS_Exporter",
   "pygments_lexer": "sos"
  },
  "sos": {
   "kernels": [
    [
     "Bash",
     "bash",
     "Bash",
     "#E6EEFF",
     ""
    ]
   ],
   "panel": {
    "displayed": true,
    "height": 0
   },
   "version": "0.19.15"
  }
 },
 "nbformat": 4,
 "nbformat_minor": 2
}
